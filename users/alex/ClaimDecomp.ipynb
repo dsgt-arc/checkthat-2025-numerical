{
 "cells": [
  {
   "cell_type": "code",
   "execution_count": 11,
   "metadata": {},
   "outputs": [],
   "source": [
    "import json\n",
    "import openai"
   ]
  },
  {
   "cell_type": "markdown",
   "metadata": {},
   "source": [
    "Gives us all the claims and all of their decompositions to use in prompting"
   ]
  },
  {
   "cell_type": "code",
   "execution_count": 12,
   "metadata": {},
   "outputs": [],
   "source": [
    "\n",
    "with open(\"../../data/ClaimDecomp/train_claimdecomp_evidence_question_mapping.json\", \"r\", encoding=\"utf-8\") as f:\n",
    "    train = json.load(f)"
   ]
  },
  {
   "cell_type": "code",
   "execution_count": 13,
   "metadata": {},
   "outputs": [],
   "source": [
    "all_claims = [(i, claim['claim']) for i, claim in enumerate(train)]"
   ]
  },
  {
   "cell_type": "code",
   "execution_count": 33,
   "metadata": {},
   "outputs": [
    {
     "data": {
      "text/plain": [
       "{'claim': 'Says “Hunter Biden had 25,000 pics of him torturing and raping children under age 10 in China on his laptop.”',\n",
       " 'evidences': [{'questions': 'did mike lindell blame \"antifa temptresses\" for the jan. 6, 2021 attack on the u.s. capitol?\\n',\n",
       "   'top_k_doc': ['this tendency was amplified in the wake of the january 6th capitol insurrection, as almost immediately false claims surfaced that antifa was the first to storm the capitol  not pro-trump extremists. these allegations were spread even by mainstream right-wing media personalities who falsely claimed that there were reports of busloads of antifa infiltrating the ranks of the pro-trump crowd and that it was antifa that was the first to break the police barrier. on december 6, 2021, prosecutors charged seven individuals described as self-identified anti-fascists related to assaults that took place in january during the patriot march at pacific beach in january 2021. the criminal complaint alleges that the self-identified antifa activists organized themselves in san diego and la respectively one week prior to the patriot march. according to the complaint, those charged reportedly used pepper spray, flag poles, sticks, and other items to attack the pro-trump protesters who assembled for the patriot march.']},\n",
       "  {'questions': ' is there evidence to support the claim that \"antifa temptresses\" were involved in the attack on the u.s. capitol?\\n',\n",
       "   'top_k_doc': ['this tendency was amplified in the wake of the january 6th capitol insurrection, as almost immediately false claims surfaced that antifa was the first to storm the capitol  not pro-trump extremists. these allegations were spread even by mainstream right-wing media personalities who falsely claimed that there were reports of busloads of antifa infiltrating the ranks of the pro-trump crowd and that it was antifa that was the first to break the police barrier. on december 6, 2021, prosecutors charged seven individuals described as self-identified anti-fascists related to assaults that took place in january during the patriot march at pacific beach in january 2021. the criminal complaint alleges that the self-identified antifa activists organized themselves in san diego and la respectively one week prior to the patriot march. according to the complaint, those charged reportedly used pepper spray, flag poles, sticks, and other items to attack the pro-trump protesters who assembled for the patriot march.']},\n",
       "  {'questions': ' did mike lindell provide any proof or evidence to support his claim about \"antifa temptresses\" being responsible for the attack on the u.s. capitol?',\n",
       "   'top_k_doc': ['this tendency was amplified in the wake of the january 6th capitol insurrection, as almost immediately false claims surfaced that antifa was the first to storm the capitol  not pro-trump extremists. these allegations were spread even by mainstream right-wing media personalities who falsely claimed that there were reports of busloads of antifa infiltrating the ranks of the pro-trump crowd and that it was antifa that was the first to break the police barrier. on december 6, 2021, prosecutors charged seven individuals described as self-identified anti-fascists related to assaults that took place in january during the patriot march at pacific beach in january 2021. the criminal complaint alleges that the self-identified antifa activists organized themselves in san diego and la respectively one week prior to the patriot march. according to the complaint, those charged reportedly used pepper spray, flag poles, sticks, and other items to attack the pro-trump protesters who assembled for the patriot march.']}],\n",
       " 'label': 'False'}"
      ]
     },
     "execution_count": 33,
     "metadata": {},
     "output_type": "execute_result"
    }
   ],
   "source": [
    "train[9834]"
   ]
  },
  {
   "cell_type": "code",
   "execution_count": 34,
   "metadata": {},
   "outputs": [
    {
     "data": {
      "text/plain": [
       "{'claim': 'Former president Barack Obama referred to himself 75 times during his farewell speech, compared to just 3 self-references by President Donald Trump in his inaugural address.',\n",
       " 'evidences': [{'questions': 'did barack obama refer to himself 75 times during his farewell speech?\\n',\n",
       "   'top_k_doc': ['barack obama gave a farewell speech, stating many achievements made during ... bush, barack obama, and donald trump, 19932017.\" journal of contextual ...']},\n",
       "  {'questions': ' did president donald trump make only 3 self-references in his inaugural address?\\n',\n",
       "   'top_k_doc': [\"jan 18, 2018  president donald trump gives his inaugural address(photo by samuel corum/anadolu agency/getty images). one year ago, president donald trump's ...\"]},\n",
       "  {'questions': ' is there a significant difference in the number of self-references made by barack obama and donald trump in their respective speeches?',\n",
       "   'top_k_doc': ['applying this guideline to trumps speech, its pretty clear that she plagiarized from obamas speech. not only are there chunks of seven or more exact words, but the context and the sentence structure are nearly identical. last nights republican national convention has thrust plagiarism to the forefront of the news. one of last nights speakers was melania trump, the wife of presumptive republican presidential nominee donald j. trump. trumps speech sounded to many strikingly similar to one given eight years earlierby first lady michelle obama at the democratic national convention in 2008. donald trumps campaign has said that trump did not plagiarize her speech. in fact, trump earlier had told matt lauer from the today show that she wrote it herself, which raises an interesting point. trump is from slovenia. different cultures view the borrowing of words or ideas differently; in some of those cultures, a writer might be expected to give word-for-word recitations in speech or writing. i dont know if slovenia is one of those cultures. but i do know that here, at elite political levels, there are (or should be) professionals whose job it is to write (or rewrite) speeches, and if those people werent involved in trumps speech, they should have been.']}],\n",
       " 'label': 'Half True/False'}"
      ]
     },
     "execution_count": 34,
     "metadata": {},
     "output_type": "execute_result"
    }
   ],
   "source": [
    "train[9839]"
   ]
  },
  {
   "cell_type": "code",
   "execution_count": 15,
   "metadata": {},
   "outputs": [],
   "source": [
    "all_claims_decomps = []\n",
    "for claim_id, i in enumerate(train):\n",
    "    output_dict = {}\n",
    "    output_dict['claim_id'] = claim_id\n",
    "    output_dict['original_claim'] = i['claim']\n",
    "    \n",
    "    for decomp_id, j in enumerate(i['evidences']):\n",
    "        output_dict[f'question{decomp_id}']= j['questions']\n",
    "\n",
    "    all_claims_decomps.append(output_dict)"
   ]
  },
  {
   "cell_type": "code",
   "execution_count": 17,
   "metadata": {},
   "outputs": [],
   "source": [
    "all_data = [{'claim_id':i['claim_id'], 'original_claim':i['original_claim']} for i in all_claims_decomps]"
   ]
  },
  {
   "cell_type": "code",
   "execution_count": 28,
   "metadata": {},
   "outputs": [
    {
     "name": "stderr",
     "output_type": "stream",
     "text": [
      "100%|██████████| 9935/9935 [10:31:54<00:00,  3.82s/it]    "
     ]
    },
    {
     "name": "stdout",
     "output_type": "stream",
     "text": [
      "Processing complete. Check 'claims_decomposed.json' for results.\n"
     ]
    },
    {
     "name": "stderr",
     "output_type": "stream",
     "text": [
      "\n"
     ]
    }
   ],
   "source": [
    "from openai import OpenAI\n",
    "\n",
    "client = OpenAI(api_key=\"passkey\")\n",
    "import json\n",
    "import time\n",
    "from tqdm import tqdm\n",
    "\n",
    "# -----------------------------\n",
    "# USER CONFIGURATION\n",
    "# -----------------------------\n",
    "\n",
    "INPUT_FILE = \"claims.json\"          # Your input file with claims data\n",
    "OUTPUT_FILE = \"claims_decomposed.json\"  # Output file for the decomposed claims\n",
    "\n",
    "# -----------------------------\n",
    "# FEW-SHOT EXAMPLES  \n",
    "# -----------------------------\n",
    "few_shot_examples = [\n",
    "    {\n",
    "        \"role\": \"assistant\",\n",
    "        \"content\": (\n",
    "            \"{\\n\"\n",
    "            '  \"claim_id\": 0,\\n'\n",
    "            '  \"original_claim\": \"In her budget speech, Nirmala Sitharaman claimed that the Government distributed 35,000 crore LED bulbs in the country.\",\\n'\n",
    "            '  \"question0\": \"Did Nirmala Sitharaman claim that the government distributed 35,000 crore LED bulbs?\",\\n'\n",
    "            '  \"question1\": \"Is there evidence that the government distributed 35,000 crore LED bulbs?\",\\n'\n",
    "            '  \"question2\": \"Are there records to support the distribution of 35,000 crore LED bulbs?\"\\n'\n",
    "            \"}\"\n",
    "        )\n",
    "    },\n",
    "    {\n",
    "        \"role\": \"assistant\",\n",
    "        \"content\": (\n",
    "            \"{\\n\"\n",
    "            '  \"claim_id\": 1,\\n'\n",
    "            '  \"original_claim\": \"Florida residents affected by Hurricane Irma can receive $197 in food stamp benefits, but only if they can show that their homes lost power for more than two hours.\",\\n'\n",
    "            '  \"question0\": \"Do Florida residents affected by Hurricane Irma qualify for $197 in food stamp benefits?\",\\n'\n",
    "            '  \"question1\": \"Is it necessary for them to prove that their homes lost power for more than two hours?\",\\n'\n",
    "            '  \"question2\": \"Is the benefit exclusively available to those affected by Hurricane Irma?\"\\n'\n",
    "            \"}\"\n",
    "        )\n",
    "    }\n",
    "]\n",
    "\n",
    "# -----------------------------\n",
    "# SYSTEM MESSAGE (General Instructions)\n",
    "# -----------------------------\n",
    "system_message = {\n",
    "    \"role\": \"system\",\n",
    "    \"content\": (\n",
    "        \"You are an assistant that, given a claim, generates up to 3 yes/no questions to aid in fact verification. \"\n",
    "        \"Return your answer in valid JSON with the following keys: 'claim_id', 'original_claim', 'question0', 'question1', and 'question2'. \"\n",
    "        \"Do not include any additional commentary.\"\n",
    "    )\n",
    "}\n",
    "\n",
    "# -----------------------------\n",
    "# LOAD INPUT DATA\n",
    "# -----------------------------\n",
    "# with open(INPUT_FILE, \"r\", encoding=\"utf-8\") as f:\n",
    "#     input_data = json.load(f)\n",
    "\n",
    "output_data = []\n",
    "\n",
    "# -----------------------------\n",
    "# PROCESS EACH CLAIM\n",
    "# -----------------------------\n",
    "for item in tqdm(all_data):\n",
    "    claim_id = item.get(\"claim_id\")\n",
    "    original_claim = item.get(\"original_claim\")\n",
    "\n",
    "    # Build conversation history with the system message, few-shot examples, and the test claim.\n",
    "    messages = [system_message] + few_shot_examples + [\n",
    "        {\n",
    "            \"role\": \"user\",\n",
    "            \"content\": f\"Claim ID: {claim_id}\\nOriginal Claim: {original_claim}\"\n",
    "        }\n",
    "    ]\n",
    "\n",
    "    try:\n",
    "        response = client.chat.completions.create(model=\"gpt-4o-mini\",  # Updated model\n",
    "        messages=messages,\n",
    "        temperature=0.3,             # Lower temperature for more deterministic output\n",
    "        max_tokens=300,\n",
    "        frequency_penalty=0.6,       # Penalizes repetition of the same phrases\n",
    "        presence_penalty=0.8,        # Encourages new ideas by penalizing already-mentioned tokens\n",
    "        n=1)\n",
    "        assistant_message = response.choices[0].message.content.strip()\n",
    "\n",
    "        try:\n",
    "            result_json = json.loads(assistant_message)\n",
    "        except json.JSONDecodeError:\n",
    "            # Fallback in case the response isn't valid JSON\n",
    "            result_json = {\n",
    "                \"claim_id\": claim_id,\n",
    "                \"original_claim\": original_claim,\n",
    "                \"question0\": assistant_message,\n",
    "                \"question1\": \"\",\n",
    "                \"question2\": \"\"\n",
    "            }\n",
    "\n",
    "        output_data.append(result_json)\n",
    "        # Pause briefly to avoid hitting rate limits\n",
    "        time.sleep(1)\n",
    "\n",
    "    except Exception as e:\n",
    "        print(f\"Error processing claim_id {claim_id}: {e}\")\n",
    "        output_data.append({ \n",
    "            \"claim_id\": claim_id,\n",
    "            \"original_claim\": original_claim,  \n",
    "            \"question0\": \"\",\n",
    "            \"question1\": \"\",\n",
    "            \"question2\": \"\"\n",
    "        })\n",
    "\n",
    "# -----------------------------\n",
    "# SAVE OUTPUT DATA\n",
    "# -----------------------------\n",
    "with open(OUTPUT_FILE, \"w\", encoding=\"utf-8\") as f:\n",
    "    json.dump(output_data, f, indent=2, ensure_ascii=False)\n",
    "\n",
    "print(f\"Processing complete. Check '{OUTPUT_FILE}' for results.\")\n"
   ]
  }
 ],
 "metadata": {
  "kernelspec": {
   "display_name": "checkthat-numerical",
   "language": "python",
   "name": "python3"
  },
  "language_info": {
   "codemirror_mode": {
    "name": "ipython",
    "version": 3
   },
   "file_extension": ".py",
   "mimetype": "text/x-python",
   "name": "python",
   "nbconvert_exporter": "python",
   "pygments_lexer": "ipython3",
   "version": "3.11.11"
  }
 },
 "nbformat": 4,
 "nbformat_minor": 2
}
