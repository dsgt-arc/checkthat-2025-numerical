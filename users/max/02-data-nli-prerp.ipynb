{
 "cells": [
  {
   "cell_type": "code",
   "execution_count": null,
   "metadata": {},
   "outputs": [],
   "source": [
    "import polars as pl"
   ]
  },
  {
   "cell_type": "code",
   "execution_count": null,
   "metadata": {},
   "outputs": [],
   "source": [
    "train_claims_decomposed = (\n",
    "    r\"/Users/maximilianheil/OMSCS/07_CLEF/Task3/checkthat-2025-numerical-data/decomposition/train_claims_decomposed.json\"\n",
    ")\n",
    "ir_evidence_corpus = r\"/Users/maximilianheil/OMSCS/07_CLEF/Task3/checkthat-2025-numerical-data/reranking/ir_evidence_corpus.csv\"\n",
    "reranked_results_train = (\n",
    "    r\"/Users/maximilianheil/OMSCS/07_CLEF/Task3/checkthat-2025-numerical-data/reranking/reranked_results_train.csv\"\n",
    ")"
   ]
  },
  {
   "cell_type": "code",
   "execution_count": null,
   "metadata": {},
   "outputs": [],
   "source": [
    "ir_evidence_corpus = pl.read_csv(ir_evidence_corpus)\n",
    "reranked_results_train = pl.read_csv(reranked_results_train)\n",
    "train_claims_decomposed = pl.read_json(train_claims_decomposed)"
   ]
  },
  {
   "cell_type": "code",
   "execution_count": null,
   "metadata": {},
   "outputs": [],
   "source": [
    "# Prepare reranked_results_train\n",
    "reranked_results_train = reranked_results_train.with_columns(\n",
    "    [\n",
    "        pl.col(\"reranked_docno\").str.strip_chars(\"[]\").str.replace_all(\"'\", \"\").str.split(\", \").cast(pl.List(pl.Int64)),\n",
    "        pl.col(\"docno\").str.strip_chars(\"[]\").str.replace_all(\"'\", \"\").str.split(\", \").cast(pl.List(pl.Int64)),\n",
    "        pl.col(\"reranked_scores\").str.strip_chars(\"[]\").str.split(\", \").cast(pl.List(pl.Float32)),\n",
    "    ]\n",
    ")\n",
    "\n",
    "# Merge reranked results with train_claims_decomposed to get the labels (and metadata)\n",
    "merged = reranked_results_train.join(train_claims_decomposed.select([\"claim_id\", \"label\"]), on=\"claim_id\", how=\"left\")\n",
    "\n",
    "# explode the lists\n",
    "merged = merged.explode([\"docno\", \"reranked_docno\", \"reranked_scores\"])\n",
    "\n",
    "# Rename evidence_corpus columns\n",
    "ir_evidence_corpus = ir_evidence_corpus.rename({\"text\": \"evidence_text\"})\n",
    "\n",
    "# Merge with ir_corpus to get the text\n",
    "merged = (\n",
    "    merged.join(ir_evidence_corpus, on=\"docno\", how=\"left\", validate=\"m:m\")\n",
    "    .drop(pl.col(\"_right\"))\n",
    "    .rename({\"evidence_text\": \"evidence_text_retriever\"})\n",
    ")\n",
    "merged = (\n",
    "    merged.join(ir_evidence_corpus, left_on=\"reranked_docno\", right_on=\"docno\", how=\"left\", validate=\"m:m\")\n",
    "    .drop(pl.col(\"_right\"))\n",
    "    .rename({\"evidence_text\": \"evidence_text_reranker\"})\n",
    ")"
   ]
  },
  {
   "cell_type": "code",
   "execution_count": null,
   "metadata": {},
   "outputs": [],
   "source": [
    "merged"
   ]
  }
 ],
 "metadata": {
  "kernelspec": {
   "display_name": "checkthat-numerical",
   "language": "python",
   "name": "python3"
  },
  "language_info": {
   "codemirror_mode": {
    "name": "ipython",
    "version": 3
   },
   "file_extension": ".py",
   "mimetype": "text/x-python",
   "name": "python",
   "nbconvert_exporter": "python",
   "pygments_lexer": "ipython3",
   "version": "3.11.0"
  }
 },
 "nbformat": 4,
 "nbformat_minor": 2
}
