{
 "cells": [
  {
   "cell_type": "code",
   "execution_count": 1,
   "id": "83c02997",
   "metadata": {},
   "outputs": [],
   "source": [
    "import polars as pl"
   ]
  },
  {
   "cell_type": "code",
   "execution_count": 2,
   "id": "72478cd5",
   "metadata": {},
   "outputs": [],
   "source": [
    "# read submission results\n",
    "p = r\"/Users/maximilianheil/OMSCS/07_CLEF/Task3/checkthat-2025-numerical-data/results/Task3_Numerical_claims_English.tsv\"\n",
    "res = pl.read_csv(p, separator=\"\\t\")"
   ]
  },
  {
   "cell_type": "code",
   "execution_count": null,
   "id": "20349807",
   "metadata": {},
   "outputs": [
    {
     "data": {
      "text/html": [
       "<div><style>\n",
       ".dataframe > thead > tr,\n",
       ".dataframe > tbody > tr {\n",
       "  text-align: right;\n",
       "  white-space: pre-wrap;\n",
       "}\n",
       "</style>\n",
       "<small>shape: (12, 2)</small><table border=\"1\" class=\"dataframe\"><thead><tr><th>claim</th><th>count</th></tr><tr><td>str</td><td>u32</td></tr></thead><tbody><tr><td>&quot;“More people have been killed …</td><td>2</td></tr><tr><td>&quot;“The Red Cross says anyone who…</td><td>2</td></tr><tr><td>&quot;“SARS-CoV-2 vaccination was as…</td><td>2</td></tr><tr><td>&quot;Face masks don’t reduce the sp…</td><td>2</td></tr><tr><td>&quot;Unprecedented climate change h…</td><td>2</td></tr><tr><td>&hellip;</td><td>&hellip;</td></tr><tr><td>&quot;A House Impeachment Can Be Ove…</td><td>2</td></tr><tr><td>&quot;Around 40,000 U.S. troops who …</td><td>2</td></tr><tr><td>&quot;“Habitual use of vitamin D sup…</td><td>2</td></tr><tr><td>&quot;Lottery winner arrested for du…</td><td>2</td></tr><tr><td>&quot;“Today the FDA announced they …</td><td>2</td></tr></tbody></table></div>"
      ],
      "text/plain": [
       "shape: (12, 2)\n",
       "┌─────────────────────────────────┬───────┐\n",
       "│ claim                           ┆ count │\n",
       "│ ---                             ┆ ---   │\n",
       "│ str                             ┆ u32   │\n",
       "╞═════════════════════════════════╪═══════╡\n",
       "│ “More people have been killed … ┆ 2     │\n",
       "│ “The Red Cross says anyone who… ┆ 2     │\n",
       "│ “SARS-CoV-2 vaccination was as… ┆ 2     │\n",
       "│ Face masks don’t reduce the sp… ┆ 2     │\n",
       "│ Unprecedented climate change h… ┆ 2     │\n",
       "│ …                               ┆ …     │\n",
       "│ A House Impeachment Can Be Ove… ┆ 2     │\n",
       "│ Around 40,000 U.S. troops who … ┆ 2     │\n",
       "│ “Habitual use of vitamin D sup… ┆ 2     │\n",
       "│ Lottery winner arrested for du… ┆ 2     │\n",
       "│ “Today the FDA announced they … ┆ 2     │\n",
       "└─────────────────────────────────┴───────┘"
      ]
     },
     "execution_count": 3,
     "metadata": {},
     "output_type": "execute_result"
    }
   ],
   "source": [
    "# 12 duplicates\n",
    "res.filter(res[\"claim\"].is_duplicated()).group_by(\"claim\").agg(pl.col(\"claim\").count().alias(\"count\")).sort(\n",
    "    \"count\", descending=True\n",
    ")"
   ]
  },
  {
   "cell_type": "code",
   "execution_count": 4,
   "id": "dddc09ac",
   "metadata": {},
   "outputs": [],
   "source": [
    "# read claim decomposition data\n",
    "val_data = pl.read_json(\n",
    "    r\"/Users/maximilianheil/OMSCS/07_CLEF/Task3/checkthat-2025-numerical-data/organizer/val_claimdecomp_evidence_question_mapping.json\",\n",
    "    infer_schema_length=1000,\n",
    ")"
   ]
  },
  {
   "cell_type": "code",
   "execution_count": null,
   "id": "e596316e",
   "metadata": {},
   "outputs": [
    {
     "data": {
      "text/html": [
       "<div><style>\n",
       ".dataframe > thead > tr,\n",
       ".dataframe > tbody > tr {\n",
       "  text-align: right;\n",
       "  white-space: pre-wrap;\n",
       "}\n",
       "</style>\n",
       "<small>shape: (11, 2)</small><table border=\"1\" class=\"dataframe\"><thead><tr><th>claim</th><th>count</th></tr><tr><td>str</td><td>u32</td></tr></thead><tbody><tr><td>&quot;The Pfizer/BioNTech vaccine co…</td><td>2</td></tr><tr><td>&quot;“Habitual use of vitamin D sup…</td><td>2</td></tr><tr><td>&quot;Face masks don’t reduce the sp…</td><td>2</td></tr><tr><td>&quot;“SARS-CoV-2 vaccination was as…</td><td>2</td></tr><tr><td>&quot;“More people have been killed …</td><td>2</td></tr><tr><td>&hellip;</td><td>&hellip;</td></tr><tr><td>&quot;Lottery winner arrested for du…</td><td>2</td></tr><tr><td>&quot;Around 40,000 U.S. troops who …</td><td>2</td></tr><tr><td>&quot;Unprecedented climate change h…</td><td>2</td></tr><tr><td>&quot;“The Red Cross says anyone who…</td><td>2</td></tr><tr><td>&quot;“Today the FDA announced they …</td><td>2</td></tr></tbody></table></div>"
      ],
      "text/plain": [
       "shape: (11, 2)\n",
       "┌─────────────────────────────────┬───────┐\n",
       "│ claim                           ┆ count │\n",
       "│ ---                             ┆ ---   │\n",
       "│ str                             ┆ u32   │\n",
       "╞═════════════════════════════════╪═══════╡\n",
       "│ The Pfizer/BioNTech vaccine co… ┆ 2     │\n",
       "│ “Habitual use of vitamin D sup… ┆ 2     │\n",
       "│ Face masks don’t reduce the sp… ┆ 2     │\n",
       "│ “SARS-CoV-2 vaccination was as… ┆ 2     │\n",
       "│ “More people have been killed … ┆ 2     │\n",
       "│ …                               ┆ …     │\n",
       "│ Lottery winner arrested for du… ┆ 2     │\n",
       "│ Around 40,000 U.S. troops who … ┆ 2     │\n",
       "│ Unprecedented climate change h… ┆ 2     │\n",
       "│ “The Red Cross says anyone who… ┆ 2     │\n",
       "│ “Today the FDA announced they … ┆ 2     │\n",
       "└─────────────────────────────────┴───────┘"
      ]
     },
     "execution_count": 5,
     "metadata": {},
     "output_type": "execute_result"
    }
   ],
   "source": [
    "# 11 duplicates\n",
    "# WE HAVE A PROBLEM HERE\n",
    "\n",
    "val_data.filter(val_data[\"claim\"].is_duplicated()).group_by(\"claim\").agg(pl.col(\"claim\").count().alias(\"count\")).sort(\n",
    "    \"count\", descending=True\n",
    ")"
   ]
  },
  {
   "cell_type": "code",
   "execution_count": 8,
   "id": "b6e908bf",
   "metadata": {},
   "outputs": [
    {
     "data": {
      "text/html": [
       "<div><style>\n",
       ".dataframe > thead > tr,\n",
       ".dataframe > tbody > tr {\n",
       "  text-align: right;\n",
       "  white-space: pre-wrap;\n",
       "}\n",
       "</style>\n",
       "<small>shape: (3_084, 9)</small><table border=\"1\" class=\"dataframe\"><thead><tr><th>crawled_date</th><th>country_of_origin</th><th>label</th><th>url</th><th>lang</th><th>claim</th><th>doc</th><th>taxonomy_label</th><th>label_original</th></tr><tr><td>str</td><td>str</td><td>str</td><td>str</td><td>str</td><td>str</td><td>str</td><td>str</td><td>str</td></tr></thead><tbody><tr><td>&quot;2022-02-23&quot;</td><td>&quot;india&quot;</td><td>&quot;False&quot;</td><td>&quot;https://www.indiatoday.in/fact…</td><td>&quot;en&quot;</td><td>&quot;Amit Shah said Narendra Modi s…</td><td>&quot;The India Today Anti-Fake News…</td><td>&quot;interval&quot;</td><td>&quot;Mostly false&quot;</td></tr><tr><td>&quot;2023-09-09T16:45:17&quot;</td><td>null</td><td>&quot;False&quot;</td><td>&quot;https://newsmobile.in/articles…</td><td>&quot;en&quot;</td><td>&quot;Video of show Pakistani player…</td><td>&quot;The first Asia Cup encounter b…</td><td>&quot;temporal&quot;</td><td>&quot;Misleading&quot;</td></tr><tr><td>null</td><td>&quot;usa&quot;</td><td>&quot;True&quot;</td><td>&quot;https://www.politifact.com/fac…</td><td>&quot;en&quot;</td><td>&quot;Says Dino Rossi &quot;stripped&quot; hea…</td><td>&quot;Did Dino Rossi, a Republican W…</td><td>&quot;statistical&quot;</td><td>&quot;mostly-true&quot;</td></tr><tr><td>&quot;2023-02-13T18:00:05&quot;</td><td>&quot;germany&quot;</td><td>&quot;False&quot;</td><td>&quot;https://correctiv.org/faktench…</td><td>&quot;en&quot;</td><td>&quot;Durch einen Vergleich mit den …</td><td>&quot;Die Facebook-Seite „Dr. Rüdige…</td><td>&quot;interval&quot;</td><td>&quot;Fehlender Kontext&quot;</td></tr><tr><td>&quot;2022-10-07T03:00:06&quot;</td><td>&quot;usa&quot;</td><td>&quot;False&quot;</td><td>&quot;https://www.snopes.com/fact-ch…</td><td>&quot;en&quot;</td><td>&quot;A gun-toting Australian granny…</td><td>&quot;MELBOURNE, Australia Gun-totin…</td><td>&quot;statistical&quot;</td><td>&quot;False&quot;</td></tr><tr><td>&hellip;</td><td>&hellip;</td><td>&hellip;</td><td>&hellip;</td><td>&hellip;</td><td>&hellip;</td><td>&hellip;</td><td>&hellip;</td><td>&hellip;</td></tr><tr><td>&quot;2022-10-07T09:00:06&quot;</td><td>&quot;usa&quot;</td><td>&quot;False&quot;</td><td>&quot;https://www.snopes.com/fact-ch…</td><td>&quot;en&quot;</td><td>&quot;Mark Zuckerberg is giving $1,0…</td><td>&quot;On 31 December 2015, the Briti…</td><td>&quot;statistical&quot;</td><td>&quot;False&quot;</td></tr><tr><td>&quot;2023-05-25T15:48:04&quot;</td><td>&quot;france&quot;</td><td>&quot;False&quot;</td><td>&quot;https://factcheck.afp.com/doc.…</td><td>&quot;en&quot;</td><td>&quot;Joe Biden said Democrats would…</td><td>&quot;&quot;Joe Biden announced to the wo…</td><td>&quot;temporal&quot;</td><td>&quot;False&quot;</td></tr><tr><td>null</td><td>&quot;usa&quot;</td><td>&quot;False&quot;</td><td>&quot;https://www.politifact.com/fac…</td><td>&quot;en&quot;</td><td>&quot;&quot;CNN to permanently close its …</td><td>&quot;CNN’s ratings drop in one week…</td><td>&quot;statistical&quot;</td><td>&quot;false&quot;</td></tr><tr><td>null</td><td>&quot;usa&quot;</td><td>&quot;Conflicting&quot;</td><td>&quot;https://www.politifact.com/fac…</td><td>&quot;en&quot;</td><td>&quot;A recent study found &quot;that cit…</td><td>&quot;More than 43,000 people in ups…</td><td>&quot;comparison&quot;</td><td>&quot;half-true&quot;</td></tr><tr><td>&quot;2022-10-06T21:00:06&quot;</td><td>&quot;usa&quot;</td><td>&quot;True&quot;</td><td>&quot;https://www.politifact.com/fac…</td><td>&quot;en&quot;</td><td>&quot;The Biden administration &quot;publ…</td><td>&quot;President Joe Biden was in Mic…</td><td>&quot;statistical&quot;</td><td>&quot;true&quot;</td></tr></tbody></table></div>"
      ],
      "text/plain": [
       "shape: (3_084, 9)\n",
       "┌───────────┬───────────┬───────────┬───────────┬───┬───────────┬───────────┬───────────┬──────────┐\n",
       "│ crawled_d ┆ country_o ┆ label     ┆ url       ┆ … ┆ claim     ┆ doc       ┆ taxonomy_ ┆ label_or │\n",
       "│ ate       ┆ f_origin  ┆ ---       ┆ ---       ┆   ┆ ---       ┆ ---       ┆ label     ┆ iginal   │\n",
       "│ ---       ┆ ---       ┆ str       ┆ str       ┆   ┆ str       ┆ str       ┆ ---       ┆ ---      │\n",
       "│ str       ┆ str       ┆           ┆           ┆   ┆           ┆           ┆ str       ┆ str      │\n",
       "╞═══════════╪═══════════╪═══════════╪═══════════╪═══╪═══════════╪═══════════╪═══════════╪══════════╡\n",
       "│ 2022-02-2 ┆ india     ┆ False     ┆ https://w ┆ … ┆ Amit Shah ┆ The India ┆ interval  ┆ Mostly   │\n",
       "│ 3         ┆           ┆           ┆ ww.indiat ┆   ┆ said      ┆ Today     ┆           ┆ false    │\n",
       "│           ┆           ┆           ┆ oday.in/f ┆   ┆ Narendra  ┆ Anti-Fake ┆           ┆          │\n",
       "│           ┆           ┆           ┆ act…      ┆   ┆ Modi s…   ┆ News…     ┆           ┆          │\n",
       "│ 2023-09-0 ┆ null      ┆ False     ┆ https://n ┆ … ┆ Video of  ┆ The first ┆ temporal  ┆ Misleadi │\n",
       "│ 9T16:45:1 ┆           ┆           ┆ ewsmobile ┆   ┆ show      ┆ Asia Cup  ┆           ┆ ng       │\n",
       "│ 7         ┆           ┆           ┆ .in/artic ┆   ┆ Pakistani ┆ encounter ┆           ┆          │\n",
       "│           ┆           ┆           ┆ les…      ┆   ┆ player…   ┆ b…        ┆           ┆          │\n",
       "│ null      ┆ usa       ┆ True      ┆ https://w ┆ … ┆ Says Dino ┆ Did Dino  ┆ statistic ┆ mostly-t │\n",
       "│           ┆           ┆           ┆ ww.politi ┆   ┆ Rossi \"st ┆ Rossi, a  ┆ al        ┆ rue      │\n",
       "│           ┆           ┆           ┆ fact.com/ ┆   ┆ ripped\"   ┆ Republica ┆           ┆          │\n",
       "│           ┆           ┆           ┆ fac…      ┆   ┆ hea…      ┆ n W…      ┆           ┆          │\n",
       "│ 2023-02-1 ┆ germany   ┆ False     ┆ https://c ┆ … ┆ Durch     ┆ Die Faceb ┆ interval  ┆ Fehlende │\n",
       "│ 3T18:00:0 ┆           ┆           ┆ orrectiv. ┆   ┆ einen     ┆ ook-Seite ┆           ┆ r        │\n",
       "│ 5         ┆           ┆           ┆ org/fakte ┆   ┆ Vergleich ┆ „Dr.      ┆           ┆ Kontext  │\n",
       "│           ┆           ┆           ┆ nch…      ┆   ┆ mit den … ┆ Rüdige…   ┆           ┆          │\n",
       "│ 2022-10-0 ┆ usa       ┆ False     ┆ https://w ┆ … ┆ A gun-tot ┆ MELBOURNE ┆ statistic ┆ False    │\n",
       "│ 7T03:00:0 ┆           ┆           ┆ ww.snopes ┆   ┆ ing Austr ┆ ,         ┆ al        ┆          │\n",
       "│ 6         ┆           ┆           ┆ .com/fact ┆   ┆ alian     ┆ Australia ┆           ┆          │\n",
       "│           ┆           ┆           ┆ -ch…      ┆   ┆ granny…   ┆ Gun-totin ┆           ┆          │\n",
       "│           ┆           ┆           ┆           ┆   ┆           ┆ …         ┆           ┆          │\n",
       "│ …         ┆ …         ┆ …         ┆ …         ┆ … ┆ …         ┆ …         ┆ …         ┆ …        │\n",
       "│ 2022-10-0 ┆ usa       ┆ False     ┆ https://w ┆ … ┆ Mark Zuck ┆ On 31     ┆ statistic ┆ False    │\n",
       "│ 7T09:00:0 ┆           ┆           ┆ ww.snopes ┆   ┆ erberg is ┆ December  ┆ al        ┆          │\n",
       "│ 6         ┆           ┆           ┆ .com/fact ┆   ┆ giving    ┆ 2015, the ┆           ┆          │\n",
       "│           ┆           ┆           ┆ -ch…      ┆   ┆ $1,0…     ┆ Briti…    ┆           ┆          │\n",
       "│ 2023-05-2 ┆ france    ┆ False     ┆ https://f ┆ … ┆ Joe Biden ┆ \"Joe      ┆ temporal  ┆ False    │\n",
       "│ 5T15:48:0 ┆           ┆           ┆ actcheck. ┆   ┆ said      ┆ Biden     ┆           ┆          │\n",
       "│ 4         ┆           ┆           ┆ afp.com/d ┆   ┆ Democrats ┆ announced ┆           ┆          │\n",
       "│           ┆           ┆           ┆ oc.…      ┆   ┆ would…    ┆ to the    ┆           ┆          │\n",
       "│           ┆           ┆           ┆           ┆   ┆           ┆ wo…       ┆           ┆          │\n",
       "│ null      ┆ usa       ┆ False     ┆ https://w ┆ … ┆ \"CNN to   ┆ CNN’s     ┆ statistic ┆ false    │\n",
       "│           ┆           ┆           ┆ ww.politi ┆   ┆ permanent ┆ ratings   ┆ al        ┆          │\n",
       "│           ┆           ┆           ┆ fact.com/ ┆   ┆ ly close  ┆ drop in   ┆           ┆          │\n",
       "│           ┆           ┆           ┆ fac…      ┆   ┆ its …     ┆ one week… ┆           ┆          │\n",
       "│ null      ┆ usa       ┆ Conflicti ┆ https://w ┆ … ┆ A recent  ┆ More than ┆ compariso ┆ half-tru │\n",
       "│           ┆           ┆ ng        ┆ ww.politi ┆   ┆ study     ┆ 43,000    ┆ n         ┆ e        │\n",
       "│           ┆           ┆           ┆ fact.com/ ┆   ┆ found     ┆ people in ┆           ┆          │\n",
       "│           ┆           ┆           ┆ fac…      ┆   ┆ \"that     ┆ ups…      ┆           ┆          │\n",
       "│           ┆           ┆           ┆           ┆   ┆ cit…      ┆           ┆           ┆          │\n",
       "│ 2022-10-0 ┆ usa       ┆ True      ┆ https://w ┆ … ┆ The Biden ┆ President ┆ statistic ┆ true     │\n",
       "│ 6T21:00:0 ┆           ┆           ┆ ww.politi ┆   ┆ administr ┆ Joe Biden ┆ al        ┆          │\n",
       "│ 6         ┆           ┆           ┆ fact.com/ ┆   ┆ ation     ┆ was in    ┆           ┆          │\n",
       "│           ┆           ┆           ┆ fac…      ┆   ┆ \"publ…    ┆ Mic…      ┆           ┆          │\n",
       "└───────────┴───────────┴───────────┴───────────┴───┴───────────┴───────────┴───────────┴──────────┘"
      ]
     },
     "execution_count": 8,
     "metadata": {},
     "output_type": "execute_result"
    }
   ],
   "source": [
    "p = r\"/Users/maximilianheil/OMSCS/07_CLEF/Task3/checkthat-2025-numerical-data/raw_data/val_claims_quantemp.json\"\n",
    "link = pl.read_json(p, infer_schema_length=10000)\n",
    "link"
   ]
  },
  {
   "cell_type": "code",
   "execution_count": 28,
   "id": "d003d0d2",
   "metadata": {},
   "outputs": [],
   "source": [
    "res = res.join(link, left_on=\"claim\", right_on=\"claim\", how=\"left\", validate=\"m:m\").select(\"claim\", \"verdict\", \"url\")"
   ]
  },
  {
   "cell_type": "code",
   "execution_count": 10,
   "id": "669eef39",
   "metadata": {},
   "outputs": [
    {
     "data": {
      "text/html": [
       "<div><style>\n",
       ".dataframe > thead > tr,\n",
       ".dataframe > tbody > tr {\n",
       "  text-align: right;\n",
       "  white-space: pre-wrap;\n",
       "}\n",
       "</style>\n",
       "<small>shape: (22, 9)</small><table border=\"1\" class=\"dataframe\"><thead><tr><th>crawled_date</th><th>country_of_origin</th><th>label</th><th>url</th><th>lang</th><th>claim</th><th>doc</th><th>taxonomy_label</th><th>label_original</th></tr><tr><td>str</td><td>str</td><td>str</td><td>str</td><td>str</td><td>str</td><td>str</td><td>str</td><td>str</td></tr></thead><tbody><tr><td>&quot;2023-08-22T19:57:06&quot;</td><td>null</td><td>&quot;False&quot;</td><td>&quot;https://leadstories.com/hoax-a…</td><td>&quot;en&quot;</td><td>&quot;A House Impeachment Can Be Ove…</td><td>&quot;Can a House impeachment of Pre…</td><td>&quot;statistical&quot;</td><td>&quot;False&quot;</td></tr><tr><td>&quot;2019-12-19&quot;</td><td>null</td><td>&quot;False&quot;</td><td>&quot;https://leadstories.com/hoax-a…</td><td>&quot;en&quot;</td><td>&quot;A House Impeachment Can Be Ove…</td><td>&quot;Can a House impeachment of Pre…</td><td>&quot;statistical&quot;</td><td>&quot;False.&quot;</td></tr><tr><td>&quot;2022-10-06T18:00:06&quot;</td><td>&quot;india&quot;</td><td>&quot;False&quot;</td><td>&quot;https://www.logically.ai/factc…</td><td>&quot;en&quot;</td><td>&quot;Around 40,000 U.S. troops who …</td><td>&quot;An old video from 2012 where a…</td><td>&quot;statistical&quot;</td><td>&quot;\n",
       "\n",
       "false\n",
       "\n",
       "\n",
       "\t\t\t\t\t\t\t\t\tfalse\n",
       "\t\t\t\t\t…</td></tr><tr><td>&quot;2022-10-06T15:00:06&quot;</td><td>&quot;india&quot;</td><td>&quot;False&quot;</td><td>&quot;https://www.logically.ai/factc…</td><td>&quot;en&quot;</td><td>&quot;Around 40,000 U.S. troops who …</td><td>&quot;An old video from 2012 where a…</td><td>&quot;statistical&quot;</td><td>&quot;\n",
       "\n",
       "false\n",
       "\n",
       "\n",
       "\t\t\t\t\t\t\t\t\tfalse\n",
       "\t\t\t\t\t…</td></tr><tr><td>&quot;2021-08-06&quot;</td><td>&quot;france&quot;</td><td>&quot;False&quot;</td><td>&quot;https://healthfeedback.org/cla…</td><td>&quot;en&quot;</td><td>&quot;Face masks don’t reduce the sp…</td><td>&quot;CLAIM Face masks don’t reduce …</td><td>&quot;comparison&quot;</td><td>&quot;Incorrect&quot;</td></tr><tr><td>&hellip;</td><td>&hellip;</td><td>&hellip;</td><td>&hellip;</td><td>&hellip;</td><td>&hellip;</td><td>&hellip;</td><td>&hellip;</td><td>&hellip;</td></tr><tr><td>&quot;2022-10-27&quot;</td><td>null</td><td>&quot;False&quot;</td><td>&quot;https://sciencefeedback.co/cla…</td><td>&quot;en&quot;</td><td>&quot;“SARS-CoV-2 vaccination was as…</td><td>&quot;CLAIM “SARS-CoV-2 vaccination …</td><td>&quot;comparison&quot;</td><td>&quot;Unsupported.&quot;</td></tr><tr><td>&quot;2021-09-20&quot;</td><td>&quot;france&quot;</td><td>&quot;False&quot;</td><td>&quot;https://sciencefeedback.co/cla…</td><td>&quot;en&quot;</td><td>&quot;“The Red Cross says anyone who…</td><td>&quot;CLAIM “The Red Cross says anyo…</td><td>&quot;interval&quot;</td><td>&quot;inaccurate&quot;</td></tr><tr><td>&quot;2023-03-14T15:18:59&quot;</td><td>null</td><td>&quot;False&quot;</td><td>&quot;https://healthfeedback.org/cla…</td><td>&quot;en&quot;</td><td>&quot;“The Red Cross says anyone who…</td><td>&quot;CLAIM “The Red Cross says anyo…</td><td>&quot;interval&quot;</td><td>&quot;Inaccurate.&quot;</td></tr><tr><td>&quot;2021-08-23&quot;</td><td>&quot;france&quot;</td><td>&quot;False&quot;</td><td>&quot;https://sciencefeedback.co/cla…</td><td>&quot;en&quot;</td><td>&quot;“Today the FDA announced they …</td><td>&quot;CLAIM “Today the FDA announced…</td><td>&quot;interval&quot;</td><td>&quot;inaccurate&quot;</td></tr><tr><td>&quot;2023-03-14T15:18:59&quot;</td><td>null</td><td>&quot;False&quot;</td><td>&quot;https://healthfeedback.org/cla…</td><td>&quot;en&quot;</td><td>&quot;“Today the FDA announced they …</td><td>&quot;CLAIM “Today the FDA announced…</td><td>&quot;interval&quot;</td><td>&quot;Inaccurate.&quot;</td></tr></tbody></table></div>"
      ],
      "text/plain": [
       "shape: (22, 9)\n",
       "┌────────────┬────────────┬───────┬────────────┬───┬───────────┬───────────┬───────────┬───────────┐\n",
       "│ crawled_da ┆ country_of ┆ label ┆ url        ┆ … ┆ claim     ┆ doc       ┆ taxonomy_ ┆ label_ori │\n",
       "│ te         ┆ _origin    ┆ ---   ┆ ---        ┆   ┆ ---       ┆ ---       ┆ label     ┆ ginal     │\n",
       "│ ---        ┆ ---        ┆ str   ┆ str        ┆   ┆ str       ┆ str       ┆ ---       ┆ ---       │\n",
       "│ str        ┆ str        ┆       ┆            ┆   ┆           ┆           ┆ str       ┆ str       │\n",
       "╞════════════╪════════════╪═══════╪════════════╪═══╪═══════════╪═══════════╪═══════════╪═══════════╡\n",
       "│ 2023-08-22 ┆ null       ┆ False ┆ https://le ┆ … ┆ A House   ┆ Can a     ┆ statistic ┆ False     │\n",
       "│ T19:57:06  ┆            ┆       ┆ adstories. ┆   ┆ Impeachme ┆ House imp ┆ al        ┆           │\n",
       "│            ┆            ┆       ┆ com/hoax-a ┆   ┆ nt Can Be ┆ eachment  ┆           ┆           │\n",
       "│            ┆            ┆       ┆ …          ┆   ┆ Ove…      ┆ of Pre…   ┆           ┆           │\n",
       "│ 2019-12-19 ┆ null       ┆ False ┆ https://le ┆ … ┆ A House   ┆ Can a     ┆ statistic ┆ False.    │\n",
       "│            ┆            ┆       ┆ adstories. ┆   ┆ Impeachme ┆ House imp ┆ al        ┆           │\n",
       "│            ┆            ┆       ┆ com/hoax-a ┆   ┆ nt Can Be ┆ eachment  ┆           ┆           │\n",
       "│            ┆            ┆       ┆ …          ┆   ┆ Ove…      ┆ of Pre…   ┆           ┆           │\n",
       "│ 2022-10-06 ┆ india      ┆ False ┆ https://ww ┆ … ┆ Around    ┆ An old    ┆ statistic ┆           │\n",
       "│ T18:00:06  ┆            ┆       ┆ w.logicall ┆   ┆ 40,000    ┆ video     ┆ al        ┆           │\n",
       "│            ┆            ┆       ┆ y.ai/factc ┆   ┆ U.S.      ┆ from 2012 ┆           ┆ false     │\n",
       "│            ┆            ┆       ┆ …          ┆   ┆ troops    ┆ where a…  ┆           ┆           │\n",
       "│            ┆            ┆       ┆            ┆   ┆ who …     ┆           ┆           ┆           │\n",
       "│            ┆            ┆       ┆            ┆   ┆           ┆           ┆           ┆ \t\t\t\t\t\t\t\t\t │\n",
       "│            ┆            ┆       ┆            ┆   ┆           ┆           ┆           ┆ false     │\n",
       "│            ┆            ┆       ┆            ┆   ┆           ┆           ┆           ┆ \t\t\t\t\t…    │\n",
       "│ 2022-10-06 ┆ india      ┆ False ┆ https://ww ┆ … ┆ Around    ┆ An old    ┆ statistic ┆           │\n",
       "│ T15:00:06  ┆            ┆       ┆ w.logicall ┆   ┆ 40,000    ┆ video     ┆ al        ┆           │\n",
       "│            ┆            ┆       ┆ y.ai/factc ┆   ┆ U.S.      ┆ from 2012 ┆           ┆ false     │\n",
       "│            ┆            ┆       ┆ …          ┆   ┆ troops    ┆ where a…  ┆           ┆           │\n",
       "│            ┆            ┆       ┆            ┆   ┆ who …     ┆           ┆           ┆           │\n",
       "│            ┆            ┆       ┆            ┆   ┆           ┆           ┆           ┆ \t\t\t\t\t\t\t\t\t │\n",
       "│            ┆            ┆       ┆            ┆   ┆           ┆           ┆           ┆ false     │\n",
       "│            ┆            ┆       ┆            ┆   ┆           ┆           ┆           ┆ \t\t\t\t\t…    │\n",
       "│ 2021-08-06 ┆ france     ┆ False ┆ https://he ┆ … ┆ Face      ┆ CLAIM     ┆ compariso ┆ Incorrect │\n",
       "│            ┆            ┆       ┆ althfeedba ┆   ┆ masks     ┆ Face      ┆ n         ┆           │\n",
       "│            ┆            ┆       ┆ ck.org/cla ┆   ┆ don’t     ┆ masks     ┆           ┆           │\n",
       "│            ┆            ┆       ┆ …          ┆   ┆ reduce    ┆ don’t     ┆           ┆           │\n",
       "│            ┆            ┆       ┆            ┆   ┆ the sp…   ┆ reduce …  ┆           ┆           │\n",
       "│ …          ┆ …          ┆ …     ┆ …          ┆ … ┆ …         ┆ …         ┆ …         ┆ …         │\n",
       "│ 2022-10-27 ┆ null       ┆ False ┆ https://sc ┆ … ┆ “SARS-CoV ┆ CLAIM “SA ┆ compariso ┆ Unsupport │\n",
       "│            ┆            ┆       ┆ iencefeedb ┆   ┆ -2 vaccin ┆ RS-CoV-2  ┆ n         ┆ ed.       │\n",
       "│            ┆            ┆       ┆ ack.co/cla ┆   ┆ ation was ┆ vaccinati ┆           ┆           │\n",
       "│            ┆            ┆       ┆ …          ┆   ┆ as…       ┆ on …      ┆           ┆           │\n",
       "│ 2021-09-20 ┆ france     ┆ False ┆ https://sc ┆ … ┆ “The Red  ┆ CLAIM     ┆ interval  ┆ inaccurat │\n",
       "│            ┆            ┆       ┆ iencefeedb ┆   ┆ Cross     ┆ “The Red  ┆           ┆ e         │\n",
       "│            ┆            ┆       ┆ ack.co/cla ┆   ┆ says      ┆ Cross     ┆           ┆           │\n",
       "│            ┆            ┆       ┆ …          ┆   ┆ anyone    ┆ says      ┆           ┆           │\n",
       "│            ┆            ┆       ┆            ┆   ┆ who…      ┆ anyo…     ┆           ┆           │\n",
       "│ 2023-03-14 ┆ null       ┆ False ┆ https://he ┆ … ┆ “The Red  ┆ CLAIM     ┆ interval  ┆ Inaccurat │\n",
       "│ T15:18:59  ┆            ┆       ┆ althfeedba ┆   ┆ Cross     ┆ “The Red  ┆           ┆ e.        │\n",
       "│            ┆            ┆       ┆ ck.org/cla ┆   ┆ says      ┆ Cross     ┆           ┆           │\n",
       "│            ┆            ┆       ┆ …          ┆   ┆ anyone    ┆ says      ┆           ┆           │\n",
       "│            ┆            ┆       ┆            ┆   ┆ who…      ┆ anyo…     ┆           ┆           │\n",
       "│ 2021-08-23 ┆ france     ┆ False ┆ https://sc ┆ … ┆ “Today    ┆ CLAIM     ┆ interval  ┆ inaccurat │\n",
       "│            ┆            ┆       ┆ iencefeedb ┆   ┆ the FDA   ┆ “Today    ┆           ┆ e         │\n",
       "│            ┆            ┆       ┆ ack.co/cla ┆   ┆ announced ┆ the FDA   ┆           ┆           │\n",
       "│            ┆            ┆       ┆ …          ┆   ┆ they …    ┆ announced ┆           ┆           │\n",
       "│            ┆            ┆       ┆            ┆   ┆           ┆ …         ┆           ┆           │\n",
       "│ 2023-03-14 ┆ null       ┆ False ┆ https://he ┆ … ┆ “Today    ┆ CLAIM     ┆ interval  ┆ Inaccurat │\n",
       "│ T15:18:59  ┆            ┆       ┆ althfeedba ┆   ┆ the FDA   ┆ “Today    ┆           ┆ e.        │\n",
       "│            ┆            ┆       ┆ ck.org/cla ┆   ┆ announced ┆ the FDA   ┆           ┆           │\n",
       "│            ┆            ┆       ┆ …          ┆   ┆ they …    ┆ announced ┆           ┆           │\n",
       "│            ┆            ┆       ┆            ┆   ┆           ┆ …         ┆           ┆           │\n",
       "└────────────┴────────────┴───────┴────────────┴───┴───────────┴───────────┴───────────┴───────────┘"
      ]
     },
     "execution_count": 10,
     "metadata": {},
     "output_type": "execute_result"
    }
   ],
   "source": [
    "p = r\"/Users/maximilianheil/OMSCS/07_CLEF/Task3/checkthat-2025-numerical-data/raw_data/val_claims_quantemp.json\"\n",
    "link = pl.read_json(p, infer_schema_length=10000)\n",
    "link.filter(link[\"claim\"].is_duplicated()).sort(\"claim\").head(30)"
   ]
  },
  {
   "cell_type": "code",
   "execution_count": 8,
   "id": "acfee77e",
   "metadata": {},
   "outputs": [
    {
     "name": "stderr",
     "output_type": "stream",
     "text": [
      "/var/folders/wt/hcz26vd53930v1kd2w8q0lhw0000gn/T/ipykernel_59364/2890840441.py:2: PolarsInefficientMapWarning: \n",
      "Expr.map_elements is significantly slower than the native expressions API.\n",
      "Only use if you absolutely CANNOT implement your logic otherwise.\n",
      "Replace this expression...\n",
      "  - pl.col(\"verdict\").map_elements(lambda x: ...)\n",
      "with this one instead:\n",
      "  + pl.col(\"verdict\").str.replace_all('TRUE','True',literal=True).str.replace_all('FALSE','False',literal=True).str.replace_all('Half True/False','Conflicting',literal=True)\n",
      "\n",
      "  pl.col(\"verdict\").map_elements(lambda x: x.replace(\"TRUE\", \"True\").replace(\"FALSE\", \"False\").replace(\"Half True/False\", \"Conflicting\")\n",
      "sys:1: MapWithoutReturnDtypeWarning: Calling `map_elements` without specifying `return_dtype` can lead to unpredictable results. Specify `return_dtype` to silence this warning.\n",
      "sys:1: MapWithoutReturnDtypeWarning: Calling `map_elements` without specifying `return_dtype` can lead to unpredictable results. Specify `return_dtype` to silence this warning.\n",
      "sys:1: MapWithoutReturnDtypeWarning: Calling `map_elements` without specifying `return_dtype` can lead to unpredictable results. Specify `return_dtype` to silence this warning.\n",
      "sys:1: MapWithoutReturnDtypeWarning: Calling `map_elements` without specifying `return_dtype` can lead to unpredictable results. Specify `return_dtype` to silence this warning.\n",
      "sys:1: MapWithoutReturnDtypeWarning: Calling `map_elements` without specifying `return_dtype` can lead to unpredictable results. Specify `return_dtype` to silence this warning.\n",
      "sys:1: MapWithoutReturnDtypeWarning: Calling `map_elements` without specifying `return_dtype` can lead to unpredictable results. Specify `return_dtype` to silence this warning.\n",
      "sys:1: MapWithoutReturnDtypeWarning: Calling `map_elements` without specifying `return_dtype` can lead to unpredictable results. Specify `return_dtype` to silence this warning.\n",
      "sys:1: MapWithoutReturnDtypeWarning: Calling `map_elements` without specifying `return_dtype` can lead to unpredictable results. Specify `return_dtype` to silence this warning.\n",
      "sys:1: MapWithoutReturnDtypeWarning: Calling `map_elements` without specifying `return_dtype` can lead to unpredictable results. Specify `return_dtype` to silence this warning.\n",
      "sys:1: MapWithoutReturnDtypeWarning: Calling `map_elements` without specifying `return_dtype` can lead to unpredictable results. Specify `return_dtype` to silence this warning.\n",
      "sys:1: MapWithoutReturnDtypeWarning: Calling `map_elements` without specifying `return_dtype` can lead to unpredictable results. Specify `return_dtype` to silence this warning.\n",
      "sys:1: MapWithoutReturnDtypeWarning: Calling `map_elements` without specifying `return_dtype` can lead to unpredictable results. Specify `return_dtype` to silence this warning.\n",
      "sys:1: MapWithoutReturnDtypeWarning: Calling `map_elements` without specifying `return_dtype` can lead to unpredictable results. Specify `return_dtype` to silence this warning.\n",
      "sys:1: MapWithoutReturnDtypeWarning: Calling `map_elements` without specifying `return_dtype` can lead to unpredictable results. Specify `return_dtype` to silence this warning.\n",
      "sys:1: MapWithoutReturnDtypeWarning: Calling `map_elements` without specifying `return_dtype` can lead to unpredictable results. Specify `return_dtype` to silence this warning.\n",
      "sys:1: MapWithoutReturnDtypeWarning: Calling `map_elements` without specifying `return_dtype` can lead to unpredictable results. Specify `return_dtype` to silence this warning.\n",
      "sys:1: MapWithoutReturnDtypeWarning: Calling `map_elements` without specifying `return_dtype` can lead to unpredictable results. Specify `return_dtype` to silence this warning.\n",
      "sys:1: MapWithoutReturnDtypeWarning: Calling `map_elements` without specifying `return_dtype` can lead to unpredictable results. Specify `return_dtype` to silence this warning.\n",
      "sys:1: MapWithoutReturnDtypeWarning: Calling `map_elements` without specifying `return_dtype` can lead to unpredictable results. Specify `return_dtype` to silence this warning.\n",
      "sys:1: MapWithoutReturnDtypeWarning: Calling `map_elements` without specifying `return_dtype` can lead to unpredictable results. Specify `return_dtype` to silence this warning.\n",
      "sys:1: MapWithoutReturnDtypeWarning: Calling `map_elements` without specifying `return_dtype` can lead to unpredictable results. Specify `return_dtype` to silence this warning.\n",
      "sys:1: MapWithoutReturnDtypeWarning: Calling `map_elements` without specifying `return_dtype` can lead to unpredictable results. Specify `return_dtype` to silence this warning.\n",
      "sys:1: MapWithoutReturnDtypeWarning: Calling `map_elements` without specifying `return_dtype` can lead to unpredictable results. Specify `return_dtype` to silence this warning.\n",
      "sys:1: MapWithoutReturnDtypeWarning: Calling `map_elements` without specifying `return_dtype` can lead to unpredictable results. Specify `return_dtype` to silence this warning.\n",
      "sys:1: MapWithoutReturnDtypeWarning: Calling `map_elements` without specifying `return_dtype` can lead to unpredictable results. Specify `return_dtype` to silence this warning.\n",
      "sys:1: MapWithoutReturnDtypeWarning: Calling `map_elements` without specifying `return_dtype` can lead to unpredictable results. Specify `return_dtype` to silence this warning.\n",
      "sys:1: MapWithoutReturnDtypeWarning: Calling `map_elements` without specifying `return_dtype` can lead to unpredictable results. Specify `return_dtype` to silence this warning.\n",
      "sys:1: MapWithoutReturnDtypeWarning: Calling `map_elements` without specifying `return_dtype` can lead to unpredictable results. Specify `return_dtype` to silence this warning.\n",
      "sys:1: MapWithoutReturnDtypeWarning: Calling `map_elements` without specifying `return_dtype` can lead to unpredictable results. Specify `return_dtype` to silence this warning.\n",
      "sys:1: MapWithoutReturnDtypeWarning: Calling `map_elements` without specifying `return_dtype` can lead to unpredictable results. Specify `return_dtype` to silence this warning.\n",
      "sys:1: MapWithoutReturnDtypeWarning: Calling `map_elements` without specifying `return_dtype` can lead to unpredictable results. Specify `return_dtype` to silence this warning.\n",
      "sys:1: MapWithoutReturnDtypeWarning: Calling `map_elements` without specifying `return_dtype` can lead to unpredictable results. Specify `return_dtype` to silence this warning.\n",
      "sys:1: MapWithoutReturnDtypeWarning: Calling `map_elements` without specifying `return_dtype` can lead to unpredictable results. Specify `return_dtype` to silence this warning.\n",
      "sys:1: MapWithoutReturnDtypeWarning: Calling `map_elements` without specifying `return_dtype` can lead to unpredictable results. Specify `return_dtype` to silence this warning.\n",
      "sys:1: MapWithoutReturnDtypeWarning: Calling `map_elements` without specifying `return_dtype` can lead to unpredictable results. Specify `return_dtype` to silence this warning.\n",
      "sys:1: MapWithoutReturnDtypeWarning: Calling `map_elements` without specifying `return_dtype` can lead to unpredictable results. Specify `return_dtype` to silence this warning.\n",
      "sys:1: MapWithoutReturnDtypeWarning: Calling `map_elements` without specifying `return_dtype` can lead to unpredictable results. Specify `return_dtype` to silence this warning.\n",
      "sys:1: MapWithoutReturnDtypeWarning: Calling `map_elements` without specifying `return_dtype` can lead to unpredictable results. Specify `return_dtype` to silence this warning.\n",
      "sys:1: MapWithoutReturnDtypeWarning: Calling `map_elements` without specifying `return_dtype` can lead to unpredictable results. Specify `return_dtype` to silence this warning.\n",
      "sys:1: MapWithoutReturnDtypeWarning: Calling `map_elements` without specifying `return_dtype` can lead to unpredictable results. Specify `return_dtype` to silence this warning.\n",
      "sys:1: MapWithoutReturnDtypeWarning: Calling `map_elements` without specifying `return_dtype` can lead to unpredictable results. Specify `return_dtype` to silence this warning.\n",
      "sys:1: MapWithoutReturnDtypeWarning: Calling `map_elements` without specifying `return_dtype` can lead to unpredictable results. Specify `return_dtype` to silence this warning.\n",
      "sys:1: MapWithoutReturnDtypeWarning: Calling `map_elements` without specifying `return_dtype` can lead to unpredictable results. Specify `return_dtype` to silence this warning.\n",
      "sys:1: MapWithoutReturnDtypeWarning: Calling `map_elements` without specifying `return_dtype` can lead to unpredictable results. Specify `return_dtype` to silence this warning.\n",
      "sys:1: MapWithoutReturnDtypeWarning: Calling `map_elements` without specifying `return_dtype` can lead to unpredictable results. Specify `return_dtype` to silence this warning.\n",
      "sys:1: MapWithoutReturnDtypeWarning: Calling `map_elements` without specifying `return_dtype` can lead to unpredictable results. Specify `return_dtype` to silence this warning.\n",
      "sys:1: MapWithoutReturnDtypeWarning: Calling `map_elements` without specifying `return_dtype` can lead to unpredictable results. Specify `return_dtype` to silence this warning.\n",
      "sys:1: MapWithoutReturnDtypeWarning: Calling `map_elements` without specifying `return_dtype` can lead to unpredictable results. Specify `return_dtype` to silence this warning.\n",
      "sys:1: MapWithoutReturnDtypeWarning: Calling `map_elements` without specifying `return_dtype` can lead to unpredictable results. Specify `return_dtype` to silence this warning.\n",
      "sys:1: MapWithoutReturnDtypeWarning: Calling `map_elements` without specifying `return_dtype` can lead to unpredictable results. Specify `return_dtype` to silence this warning.\n",
      "sys:1: MapWithoutReturnDtypeWarning: Calling `map_elements` without specifying `return_dtype` can lead to unpredictable results. Specify `return_dtype` to silence this warning.\n",
      "sys:1: MapWithoutReturnDtypeWarning: Calling `map_elements` without specifying `return_dtype` can lead to unpredictable results. Specify `return_dtype` to silence this warning.\n",
      "sys:1: MapWithoutReturnDtypeWarning: Calling `map_elements` without specifying `return_dtype` can lead to unpredictable results. Specify `return_dtype` to silence this warning.\n",
      "sys:1: MapWithoutReturnDtypeWarning: Calling `map_elements` without specifying `return_dtype` can lead to unpredictable results. Specify `return_dtype` to silence this warning.\n",
      "sys:1: MapWithoutReturnDtypeWarning: Calling `map_elements` without specifying `return_dtype` can lead to unpredictable results. Specify `return_dtype` to silence this warning.\n",
      "sys:1: MapWithoutReturnDtypeWarning: Calling `map_elements` without specifying `return_dtype` can lead to unpredictable results. Specify `return_dtype` to silence this warning.\n",
      "sys:1: MapWithoutReturnDtypeWarning: Calling `map_elements` without specifying `return_dtype` can lead to unpredictable results. Specify `return_dtype` to silence this warning.\n",
      "sys:1: MapWithoutReturnDtypeWarning: Calling `map_elements` without specifying `return_dtype` can lead to unpredictable results. Specify `return_dtype` to silence this warning.\n",
      "sys:1: MapWithoutReturnDtypeWarning: Calling `map_elements` without specifying `return_dtype` can lead to unpredictable results. Specify `return_dtype` to silence this warning.\n",
      "sys:1: MapWithoutReturnDtypeWarning: Calling `map_elements` without specifying `return_dtype` can lead to unpredictable results. Specify `return_dtype` to silence this warning.\n",
      "sys:1: MapWithoutReturnDtypeWarning: Calling `map_elements` without specifying `return_dtype` can lead to unpredictable results. Specify `return_dtype` to silence this warning.\n",
      "sys:1: MapWithoutReturnDtypeWarning: Calling `map_elements` without specifying `return_dtype` can lead to unpredictable results. Specify `return_dtype` to silence this warning.\n",
      "sys:1: MapWithoutReturnDtypeWarning: Calling `map_elements` without specifying `return_dtype` can lead to unpredictable results. Specify `return_dtype` to silence this warning.\n",
      "sys:1: MapWithoutReturnDtypeWarning: Calling `map_elements` without specifying `return_dtype` can lead to unpredictable results. Specify `return_dtype` to silence this warning.\n",
      "sys:1: MapWithoutReturnDtypeWarning: Calling `map_elements` without specifying `return_dtype` can lead to unpredictable results. Specify `return_dtype` to silence this warning.\n",
      "sys:1: MapWithoutReturnDtypeWarning: Calling `map_elements` without specifying `return_dtype` can lead to unpredictable results. Specify `return_dtype` to silence this warning.\n",
      "sys:1: MapWithoutReturnDtypeWarning: Calling `map_elements` without specifying `return_dtype` can lead to unpredictable results. Specify `return_dtype` to silence this warning.\n",
      "sys:1: MapWithoutReturnDtypeWarning: Calling `map_elements` without specifying `return_dtype` can lead to unpredictable results. Specify `return_dtype` to silence this warning.\n",
      "sys:1: MapWithoutReturnDtypeWarning: Calling `map_elements` without specifying `return_dtype` can lead to unpredictable results. Specify `return_dtype` to silence this warning.\n",
      "sys:1: MapWithoutReturnDtypeWarning: Calling `map_elements` without specifying `return_dtype` can lead to unpredictable results. Specify `return_dtype` to silence this warning.\n",
      "sys:1: MapWithoutReturnDtypeWarning: Calling `map_elements` without specifying `return_dtype` can lead to unpredictable results. Specify `return_dtype` to silence this warning.\n",
      "sys:1: MapWithoutReturnDtypeWarning: Calling `map_elements` without specifying `return_dtype` can lead to unpredictable results. Specify `return_dtype` to silence this warning.\n",
      "sys:1: MapWithoutReturnDtypeWarning: Calling `map_elements` without specifying `return_dtype` can lead to unpredictable results. Specify `return_dtype` to silence this warning.\n",
      "sys:1: MapWithoutReturnDtypeWarning: Calling `map_elements` without specifying `return_dtype` can lead to unpredictable results. Specify `return_dtype` to silence this warning.\n",
      "sys:1: MapWithoutReturnDtypeWarning: Calling `map_elements` without specifying `return_dtype` can lead to unpredictable results. Specify `return_dtype` to silence this warning.\n",
      "sys:1: MapWithoutReturnDtypeWarning: Calling `map_elements` without specifying `return_dtype` can lead to unpredictable results. Specify `return_dtype` to silence this warning.\n",
      "sys:1: MapWithoutReturnDtypeWarning: Calling `map_elements` without specifying `return_dtype` can lead to unpredictable results. Specify `return_dtype` to silence this warning.\n",
      "sys:1: MapWithoutReturnDtypeWarning: Calling `map_elements` without specifying `return_dtype` can lead to unpredictable results. Specify `return_dtype` to silence this warning.\n",
      "sys:1: MapWithoutReturnDtypeWarning: Calling `map_elements` without specifying `return_dtype` can lead to unpredictable results. Specify `return_dtype` to silence this warning.\n",
      "sys:1: MapWithoutReturnDtypeWarning: Calling `map_elements` without specifying `return_dtype` can lead to unpredictable results. Specify `return_dtype` to silence this warning.\n",
      "sys:1: MapWithoutReturnDtypeWarning: Calling `map_elements` without specifying `return_dtype` can lead to unpredictable results. Specify `return_dtype` to silence this warning.\n",
      "sys:1: MapWithoutReturnDtypeWarning: Calling `map_elements` without specifying `return_dtype` can lead to unpredictable results. Specify `return_dtype` to silence this warning.\n",
      "sys:1: MapWithoutReturnDtypeWarning: Calling `map_elements` without specifying `return_dtype` can lead to unpredictable results. Specify `return_dtype` to silence this warning.\n",
      "sys:1: MapWithoutReturnDtypeWarning: Calling `map_elements` without specifying `return_dtype` can lead to unpredictable results. Specify `return_dtype` to silence this warning.\n",
      "sys:1: MapWithoutReturnDtypeWarning: Calling `map_elements` without specifying `return_dtype` can lead to unpredictable results. Specify `return_dtype` to silence this warning.\n",
      "sys:1: MapWithoutReturnDtypeWarning: Calling `map_elements` without specifying `return_dtype` can lead to unpredictable results. Specify `return_dtype` to silence this warning.\n",
      "sys:1: MapWithoutReturnDtypeWarning: Calling `map_elements` without specifying `return_dtype` can lead to unpredictable results. Specify `return_dtype` to silence this warning.\n",
      "sys:1: MapWithoutReturnDtypeWarning: Calling `map_elements` without specifying `return_dtype` can lead to unpredictable results. Specify `return_dtype` to silence this warning.\n",
      "sys:1: MapWithoutReturnDtypeWarning: Calling `map_elements` without specifying `return_dtype` can lead to unpredictable results. Specify `return_dtype` to silence this warning.\n",
      "sys:1: MapWithoutReturnDtypeWarning: Calling `map_elements` without specifying `return_dtype` can lead to unpredictable results. Specify `return_dtype` to silence this warning.\n",
      "sys:1: MapWithoutReturnDtypeWarning: Calling `map_elements` without specifying `return_dtype` can lead to unpredictable results. Specify `return_dtype` to silence this warning.\n",
      "sys:1: MapWithoutReturnDtypeWarning: Calling `map_elements` without specifying `return_dtype` can lead to unpredictable results. Specify `return_dtype` to silence this warning.\n",
      "sys:1: MapWithoutReturnDtypeWarning: Calling `map_elements` without specifying `return_dtype` can lead to unpredictable results. Specify `return_dtype` to silence this warning.\n",
      "sys:1: MapWithoutReturnDtypeWarning: Calling `map_elements` without specifying `return_dtype` can lead to unpredictable results. Specify `return_dtype` to silence this warning.\n",
      "sys:1: MapWithoutReturnDtypeWarning: Calling `map_elements` without specifying `return_dtype` can lead to unpredictable results. Specify `return_dtype` to silence this warning.\n",
      "sys:1: MapWithoutReturnDtypeWarning: Calling `map_elements` without specifying `return_dtype` can lead to unpredictable results. Specify `return_dtype` to silence this warning.\n",
      "sys:1: MapWithoutReturnDtypeWarning: Calling `map_elements` without specifying `return_dtype` can lead to unpredictable results. Specify `return_dtype` to silence this warning.\n",
      "sys:1: MapWithoutReturnDtypeWarning: Calling `map_elements` without specifying `return_dtype` can lead to unpredictable results. Specify `return_dtype` to silence this warning.\n",
      "sys:1: MapWithoutReturnDtypeWarning: Calling `map_elements` without specifying `return_dtype` can lead to unpredictable results. Specify `return_dtype` to silence this warning.\n",
      "sys:1: MapWithoutReturnDtypeWarning: Calling `map_elements` without specifying `return_dtype` can lead to unpredictable results. Specify `return_dtype` to silence this warning.\n",
      "sys:1: MapWithoutReturnDtypeWarning: Calling `map_elements` without specifying `return_dtype` can lead to unpredictable results. Specify `return_dtype` to silence this warning.\n"
     ]
    },
    {
     "data": {
      "text/plain": [
       "'    {\\n        \"TRUE\": \"True\",\\n        \"FALSE\": \"False\",\\n        \"Half True/False\": \"Conflicting\"\\n    }\\n)'"
      ]
     },
     "execution_count": 8,
     "metadata": {},
     "output_type": "execute_result"
    }
   ],
   "source": [
    "res = res.with_columns(\n",
    "    pl.col(\"verdict\").map_elements(\n",
    "        lambda x: x.replace(\"TRUE\", \"True\").replace(\"FALSE\", \"False\").replace(\"Half True/False\", \"Conflicting\")\n",
    "    )\n",
    ")\n",
    "\"\"\"    {\n",
    "        \"TRUE\": \"True\",\n",
    "        \"FALSE\": \"False\",\n",
    "        \"Half True/False\": \"Conflicting\"\n",
    "    }\n",
    ")\"\"\""
   ]
  },
  {
   "cell_type": "code",
   "execution_count": 11,
   "id": "84f3a20b",
   "metadata": {},
   "outputs": [],
   "source": [
    "res[[\"url\", \"verdict\"]].write_csv(\n",
    "    r\"/Users/maximilianheil/OMSCS/07_CLEF/Task3/checkthat-2025-numerical-data/results/Task3_Numerical_claims_English_cleaned.tsv\",\n",
    "    separator=\"\\t\",\n",
    ")"
   ]
  },
  {
   "cell_type": "code",
   "execution_count": 10,
   "id": "8f3938d2",
   "metadata": {},
   "outputs": [
    {
     "data": {
      "text/html": [
       "<div><style>\n",
       ".dataframe > thead > tr,\n",
       ".dataframe > tbody > tr {\n",
       "  text-align: right;\n",
       "  white-space: pre-wrap;\n",
       "}\n",
       "</style>\n",
       "<small>shape: (3_107, 3)</small><table border=\"1\" class=\"dataframe\"><thead><tr><th>claim</th><th>verdict</th><th>url</th></tr><tr><td>str</td><td>str</td><td>str</td></tr></thead><tbody><tr><td>&quot;Amit Shah said Narendra Modi s…</td><td>&quot;False&quot;</td><td>&quot;https://www.indiatoday.in/fact…</td></tr><tr><td>&quot;Video of show Pakistani player…</td><td>&quot;False&quot;</td><td>&quot;https://newsmobile.in/articles…</td></tr><tr><td>&quot;Says Dino Rossi &quot;stripped&quot; hea…</td><td>&quot;Conflicting&quot;</td><td>&quot;https://www.politifact.com/fac…</td></tr><tr><td>&quot;Durch einen Vergleich mit den …</td><td>&quot;False&quot;</td><td>&quot;https://correctiv.org/faktench…</td></tr><tr><td>&quot;A gun-toting Australian granny…</td><td>&quot;False&quot;</td><td>&quot;https://www.snopes.com/fact-ch…</td></tr><tr><td>&hellip;</td><td>&hellip;</td><td>&hellip;</td></tr><tr><td>&quot;Mark Zuckerberg is giving $1,0…</td><td>&quot;False&quot;</td><td>&quot;https://www.snopes.com/fact-ch…</td></tr><tr><td>&quot;Joe Biden said Democrats would…</td><td>&quot;False&quot;</td><td>&quot;https://factcheck.afp.com/doc.…</td></tr><tr><td>&quot;&quot;CNN to permanently close its …</td><td>&quot;Conflicting&quot;</td><td>&quot;https://www.politifact.com/fac…</td></tr><tr><td>&quot;A recent study found &quot;that cit…</td><td>&quot;True&quot;</td><td>&quot;https://www.politifact.com/fac…</td></tr><tr><td>&quot;The Biden administration &quot;publ…</td><td>&quot;Conflicting&quot;</td><td>&quot;https://www.politifact.com/fac…</td></tr></tbody></table></div>"
      ],
      "text/plain": [
       "shape: (3_107, 3)\n",
       "┌─────────────────────────────────┬─────────────┬─────────────────────────────────┐\n",
       "│ claim                           ┆ verdict     ┆ url                             │\n",
       "│ ---                             ┆ ---         ┆ ---                             │\n",
       "│ str                             ┆ str         ┆ str                             │\n",
       "╞═════════════════════════════════╪═════════════╪═════════════════════════════════╡\n",
       "│ Amit Shah said Narendra Modi s… ┆ False       ┆ https://www.indiatoday.in/fact… │\n",
       "│ Video of show Pakistani player… ┆ False       ┆ https://newsmobile.in/articles… │\n",
       "│ Says Dino Rossi \"stripped\" hea… ┆ Conflicting ┆ https://www.politifact.com/fac… │\n",
       "│ Durch einen Vergleich mit den … ┆ False       ┆ https://correctiv.org/faktench… │\n",
       "│ A gun-toting Australian granny… ┆ False       ┆ https://www.snopes.com/fact-ch… │\n",
       "│ …                               ┆ …           ┆ …                               │\n",
       "│ Mark Zuckerberg is giving $1,0… ┆ False       ┆ https://www.snopes.com/fact-ch… │\n",
       "│ Joe Biden said Democrats would… ┆ False       ┆ https://factcheck.afp.com/doc.… │\n",
       "│ \"CNN to permanently close its … ┆ Conflicting ┆ https://www.politifact.com/fac… │\n",
       "│ A recent study found \"that cit… ┆ True        ┆ https://www.politifact.com/fac… │\n",
       "│ The Biden administration \"publ… ┆ Conflicting ┆ https://www.politifact.com/fac… │\n",
       "└─────────────────────────────────┴─────────────┴─────────────────────────────────┘"
      ]
     },
     "execution_count": 10,
     "metadata": {},
     "output_type": "execute_result"
    }
   ],
   "source": [
    "res"
   ]
  },
  {
   "cell_type": "code",
   "execution_count": null,
   "id": "6350b33f",
   "metadata": {},
   "outputs": [],
   "source": []
  }
 ],
 "metadata": {
  "kernelspec": {
   "display_name": "checkthat-numerical",
   "language": "python",
   "name": "python3"
  },
  "language_info": {
   "codemirror_mode": {
    "name": "ipython",
    "version": 3
   },
   "file_extension": ".py",
   "mimetype": "text/x-python",
   "name": "python",
   "nbconvert_exporter": "python",
   "pygments_lexer": "ipython3",
   "version": "3.11.0"
  }
 },
 "nbformat": 4,
 "nbformat_minor": 5
}
